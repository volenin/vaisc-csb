{
 "cells": [
  {
   "cell_type": "markdown",
   "id": "1b4a53da",
   "metadata": {},
   "source": [
    "# Overview\n",
    "TBD"
   ]
  },
  {
   "cell_type": "markdown",
   "id": "527aaa36",
   "metadata": {},
   "source": [
    "# Setup\n",
    "Let's get started by preparing your environment. We'll begin with authentication and configuration, which are required for all subsequent API calls."
   ]
  },
  {
   "cell_type": "markdown",
   "id": "05d36ccb",
   "metadata": {},
   "source": [
    "## Package installs\n",
    "Install all required Python packages. Run this cell only once after starting a new kernel."
   ]
  },
  {
   "cell_type": "code",
   "execution_count": null,
   "id": "de7493ae",
   "metadata": {},
   "outputs": [],
   "source": [
    "%pip install google google-cloud-retail google-cloud-storage google-cloud-bigquery pandas\n",
    "%pip install google-cloud-bigquery-storage pyarrow tqdm bigquery-magics\n",
    "%pip install google-cloud-bigquery[pandas] jupyterlab\n",
    "%pip install fsspec gcsfs\n",
    "%pip install matplotlib seaborn plotly\n",
    "%pip install --upgrade ipython-sql"
   ]
  },
  {
   "cell_type": "markdown",
   "id": "80bdc5bc",
   "metadata": {},
   "source": [
    "## Authentication and GCP settings\n",
    "Before we can interact with the Retail API, we need to authenticate with Google Cloud and set up our project context. This ensures all API calls are authorized and associated with the correct GCP project. If authentication fails, you'll be prompted to log in interactively. The `project_id` variable will be used throughout the notebook.\n",
    "\n",
    "**About `project_id` and Application Default Credentials (ADC):**\n",
    "\n",
    "- **`project_id`**: This uniquely identifies your Google Cloud project. All API requests, resource creation, and billing are tied to this project. Setting the correct `project_id` ensures your operations are performed in the intended environment and resources are properly tracked.\n",
    "\n",
    "- **Application Default Credentials (ADC)**: ADC is a mechanism that allows your code to automatically find and use your Google Cloud credentials. Running the `gcloud auth application-default login` command sets up ADC by generating credentials that client libraries (like the Retail API) can use to authenticate API calls on your behalf.\n",
    "\n",
    "**Why this matters:**  \n",
    "Proper authentication and project selection are essential for secure, authorized access to Google Cloud resources. Without these, API calls will fail or may affect the wrong project. ADC simplifies credential management, especially in development and notebook environments."
   ]
  },
  {
   "cell_type": "code",
   "execution_count": 1,
   "id": "6da8f205",
   "metadata": {},
   "outputs": [
    {
     "name": "stdout",
     "output_type": "stream",
     "text": [
      "Already authenticated with Application Default Credentials.\n"
     ]
    }
   ],
   "source": [
    "import subprocess\n",
    "\n",
    "try:\n",
    "  # Try to get an access token\n",
    "  subprocess.check_output(\n",
    "    ['gcloud', 'auth', 'application-default', 'print-access-token'],\n",
    "    stderr=subprocess.STDOUT\n",
    "  )\n",
    "  print(\"Already authenticated with Application Default Credentials.\")\n",
    "except subprocess.CalledProcessError:\n",
    "  # If it fails, prompt for login\n",
    "  print(\"No valid ADC found. Running interactive login...\")\n",
    "  !gcloud auth application-default login"
   ]
  },
  {
   "cell_type": "markdown",
   "id": "42ae0512",
   "metadata": {},
   "source": [
    "## Imports\n",
    "Import all necessary libraries for API access, data analysis, and visualization."
   ]
  },
  {
   "cell_type": "code",
   "execution_count": null,
   "id": "24fc4ebf",
   "metadata": {},
   "outputs": [],
   "source": [
    "from google.cloud.retail_v2 import SearchServiceClient, ProductServiceClient, PredictionServiceClient\n",
    "from google.cloud.retail_v2.types import product, search_service, ListProductsRequest, SearchRequest, PredictRequest, UserEvent\n",
    "from google.protobuf.field_mask_pb2 import FieldMask\n",
    "from google.protobuf.json_format import MessageToDict\n",
    "import pandas as pd\n",
    "import http.client as http_client\n",
    "import logging\n",
    "import re\n",
    "from IPython.display import display_html\n",
    "from matplotlib import pyplot as plt\n",
    "import seaborn as sns\n",
    "\n",
    "# enabling BigQuery magics\n",
    "%load_ext bigquery_magics\n",
    "\n",
    "# configuring default optoins for pandas\n",
    "pd.set_option('display.max_rows', None)\n",
    "pd.set_option('display.max_columns', None)\n",
    "# pd.set_option('display.width', None)\n",
    "pd.set_option('display.max_colwidth', None)"
   ]
  },
  {
   "cell_type": "markdown",
   "id": "0acc346d",
   "metadata": {},
   "source": [
    "## Global variables\n",
    "With authentication complete, let's define some key variables that will be used in all our API calls. These include resource names and placements, which specify the context for search and recommendation requests.\n",
    "\n",
    "**What is a 'placement'?**  \n",
    "A placement is a configuration resource in the Retail API that determines how and where a model is used for serving search or recommendation results. Placements define the context (such as search, browse, or recommendation) and can be customized for different pages or user experiences.\n",
    "\n",
    "**Why might you have multiple placements or branches?**  \n",
    "- You may have different placements for various parts of your site or app, such as a homepage recommendation carousel, a category browse page, or a personalized search bar.\n",
    "- Multiple branches allow you to manage different versions of your product catalog (e.g., staging vs. production, or A/B testing different product sets).\n",
    "\n",
    "**Example scenarios:**\n",
    "- Using a \"default_search\" placement for general product search, and a \"recently_viewed_default\" placement for showing users their recently viewed items.\n",
    "- Having separate branches for testing new product data before rolling it out to all users, or for running experiments with different recommendation models."
   ]
  },
  {
   "cell_type": "code",
   "execution_count": 3,
   "id": "8da74112",
   "metadata": {},
   "outputs": [
    {
     "name": "stdout",
     "output_type": "stream",
     "text": [
      "Using project ID: artilekt-vaisc-csb\n"
     ]
    }
   ],
   "source": [
    "import google.auth\n",
    "import google.auth.exceptions\n",
    "\n",
    "# Authenticate with Google Cloud and get the default project ID\n",
    "try:\n",
    "  credentials, project_id = google.auth.default()\n",
    "  print(f\"Using project ID: {project_id}\")\n",
    "except google.auth.exceptions.DefaultCredentialsError:\n",
    "  print(\"Google Cloud Authentication failed. Please configure your credentials.\")\n",
    "  print(\"You might need to run 'gcloud auth application-default login'\")\n",
    "  project_id = None # Set to None or a default\n",
    "  \n",
    "  \n",
    "# Define the default placement for search and recommendations\n",
    "DEFAULT_SEARCH = (\n",
    "  f\"projects/{project_id}/locations/global/catalogs/default_catalog/\"\n",
    "  \"placements/default_search\" # Use default_search unless you have a specific browse placement\n",
    ")\n",
    "RECENTLY_VIEWED_DEFAULT = (\n",
    "  f\"projects/{project_id}/locations/global/catalogs/default_catalog/\"\n",
    "  \"placements/recently_viewed_default\"\n",
    ")\n",
    "DEFAULT_BRANCH = f\"projects/{project_id}/locations/global/catalogs/default_catalog/branches/0\""
   ]
  },
  {
   "cell_type": "markdown",
   "id": "3658dabf",
   "metadata": {},
   "source": [
    "## Utils\n",
    "To make our analysis easier, we'll use some utility functions for data conversion and HTTP logging. These will help us convert API responses to Pandas DataFrames for analysis and enable detailed logging for troubleshooting."
   ]
  },
  {
   "cell_type": "code",
   "execution_count": null,
   "id": "7170989e",
   "metadata": {},
   "outputs": [],
   "source": [
    "import pandas as pd\n",
    "from google.protobuf.json_format import MessageToDict\n",
    "\n",
    "pd.set_option('display.max_rows', None)\n",
    "pd.set_option('display.max_columns', None)\n",
    "# pd.set_option('display.width', None)\n",
    "pd.set_option('display.max_colwidth', None)\n",
    "\n",
    "def json2df(products_list):\n",
    "  if products_list:\n",
    "    products_dicts = [dict(sorted(MessageToDict(p._pb).items())) for p in products_list]\n",
    "    df = pd.json_normalize(products_dicts)\n",
    "    return df\n",
    "  else:\n",
    "    print(\"No products returned or an error occurred.\")\n",
    "    return pd.DataFrame()\n",
    "\n",
    "from contextlib import contextmanager\n",
    "\n",
    "@contextmanager\n",
    "def http_logging(log_http: bool):\n",
    "    \"\"\"\n",
    "    Context manager to enable/disable HTTP logging for Google API clients.\n",
    "    Usage:\n",
    "        with http_logging(log_http):\n",
    "            # code that needs HTTP logging\n",
    "    \"\"\"\n",
    "    import http.client as http_client\n",
    "    import logging\n",
    "    root_logger = logging.getLogger()\n",
    "    original_http_debuglevel = http_client.HTTPConnection.debuglevel\n",
    "    original_log_level = root_logger.level\n",
    "    try:\n",
    "        if log_http:\n",
    "            print(\"\\n--- [INFO] Enabling HTTP Logging (forcing REST transport) ---\")\n",
    "            logging.basicConfig()\n",
    "            root_logger.setLevel(logging.DEBUG)\n",
    "            http_client.HTTPConnection.debuglevel = 1\n",
    "            print(\"--- [INFO] Using REST transport. ---\")\n",
    "        yield\n",
    "    finally:\n",
    "        if log_http:\n",
    "            http_client.HTTPConnection.debuglevel = original_http_debuglevel\n",
    "            root_logger.setLevel(original_log_level)\n",
    "            print(\"--- [INFO] HTTP Logging & Root Log Level Restored ---\")"
   ]
  }
 ],
 "metadata": {
  "kernelspec": {
   "display_name": ".venv",
   "language": "python",
   "name": "python3"
  },
  "language_info": {
   "codemirror_mode": {
    "name": "ipython",
    "version": 3
   },
   "file_extension": ".py",
   "mimetype": "text/x-python",
   "name": "python",
   "nbconvert_exporter": "python",
   "pygments_lexer": "ipython3",
   "version": "3.9.2"
  }
 },
 "nbformat": 4,
 "nbformat_minor": 5
}
